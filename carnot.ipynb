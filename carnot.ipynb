{
 "cells": [
  {
   "cell_type": "markdown",
   "metadata": {},
   "source": [
    "CARNOT equation (ISO 9806) in SI units:\n",
    "$$\n",
    "\\begin{equation}\n",
    "    \\begin{split}\n",
    "        \\dot m C_p \\frac{(T_{out} - T_{in})}{A} & = F'\\tau \\alpha K_{dir} I_{dir} + F'\\tau \\alpha K_{dfu} I_{dfu} - c_1 (T_m - T_{amb}) \\\\\n",
    "        & - c_2 (T_m - T_{amb})^2 - c_3 v_w (T_m - T_{amb}) - c_6 v_w I_{glb} \\\\\n",
    "        & + c_4 (E_{longwave} - \\sigma_{SB} T_{amb}^4) - c_5 \\frac{dT_m}{dt}\n",
    "    \\end{split}\n",
    "\\end{equation}\n",
    "$$"
   ]
  },
  {
   "cell_type": "markdown",
   "metadata": {},
   "source": [
    "Substituting $T_{out} = 2T_m -Tin$ and solving for $\\frac{dT_m}{dt}$ we get:\n",
    "\n",
    "$$\n",
    "\\begin{equation}\n",
    "    \\begin{split}\n",
    "         \\frac{dT_m}{dt} & = \\frac{1}{c_5} [F'\\tau \\alpha K_{dir} I_{dir} + F'\\tau \\alpha K_{dfu} I_{dfu} + F'\\tau \\alpha + c_1 (T_m - T_{amb}) \\\\\n",
    "        & - c_2 (T_m - T_{amb})^2 - c_3 v_w (T_m - T_{amb}) - c_6 v_w I_{glb} \\\\\n",
    "        & + c_4 (E_{longwave} - \\sigma_{SB} T_{amb}^4) -2 \\frac{\\dot m C_p}{A} (T_{m} - T_{in})]\n",
    "    \\end{split}\n",
    "\\end{equation}\n",
    "$$"
   ]
  },
  {
   "cell_type": "markdown",
   "metadata": {},
   "source": [
    "For our test case, $I_{dfu} = c_3 = c_4 = c_6 = 0$:\n",
    "\n",
    "$$\n",
    "\\begin{equation}\n",
    "    \\begin{split}\n",
    "         \\frac{dT_m}{dt} & = \\frac{1}{c_5} [F'\\tau \\alpha K_{dir} I_{dir} - c_1 (T_m - T_{amb}) - c_2 (T_m - T_{amb})^2 -2 \\frac{\\dot m C_p}{A} (T_{m} - T_{in})]\n",
    "    \\end{split}\n",
    "\\end{equation}\n",
    "$$\n",
    "\n",
    "where $K_{dir} = K_b(L) \\cdot K_b(T)$"
   ]
  },
  {
   "cell_type": "markdown",
   "metadata": {},
   "source": [
    "Modified ISO equation:\n",
    "$$\n",
    "\\begin{equation}\n",
    "    \\begin{split}\n",
    "        \\dot m C_p \\frac{(T_{out} - T_{in})}{A} & = F'\\tau \\alpha K_{dir} I_{dir} + F'\\tau \\alpha K_{dfu} I_{dfu} - c_1 (T_m - T_{amb}) \\\\\n",
    "        & - c_2 (T_m - T_{amb})^2 - c_3 v_w (T_m - T_{amb}) - c_6 v_w I_{glb} \\\\\n",
    "        & + c_4 (E_{longwave} - \\sigma_{SB} T_{amb}^4) - \\frac{c_5}{2} \\frac{dT_{out}}{dt}\n",
    "    \\end{split}\n",
    "\\end{equation}\n",
    "$$\n",
    "\n",
    "$$\n",
    "\\begin{equation}\n",
    "    \\begin{split}\n",
    "         \\frac{dT_{out}}{dt} & = \\frac{2}{c_5} [F'\\tau \\alpha K_{dir} I_{dir} - c_1 (T_{out} +T_{in} 2T_{amb}) - c_2 (T_{out} +T_{in} 2T_{amb})^2 - \\frac{\\dot m C_p}{A} (T_{out} - T_{in})]\n",
    "    \\end{split}\n",
    "\\end{equation}\n",
    "$$"
   ]
  },
  {
   "cell_type": "code",
   "execution_count": 75,
   "metadata": {},
   "outputs": [],
   "source": [
    "# CARNOT parameters\n",
    "t_0 = 20 + 273  # Initial temperature\n",
    "area = 1           # surface  of one collector module in m2\n",
    "F_ta = 0.507    # Fin Efficiency * Transmission * Absorption (F'(tau alfa))\n",
    "c1 = 0.7153     # heat loss coefficient at (Tm-Ta)=0  [W/(m²*K)]\n",
    "c2 = 0.00339    # temperature dependence of the heat loss coefficient [W/(m*K)²]\n",
    "c3 = 0          # wind speed dependence of the heat loss coefficient [J/(m³K)]\n",
    "c4 = 0          # sky temperature dependence of the heat loss coefficient [W/(m²K)]\n",
    "c5 = 675        # effective thermal capacity [J/(m²K)]\n",
    "c6 = 0          # wind dependence in the zero loss efficiency [s/m]\n",
    "kb = [0, 10, 20, 30, 40, 50, 60, 70, 90]    # angles for longitudinal and transversal IAM [degree]\n",
    "kbL = [1, 1, 1, 0.99, 0.98, 0.96, 0.93, 0.87, 0]    #values for longitudinal incidence angle modifier (0..1)\n",
    "kbT = [1, 1.01, 1.04, 1.07, 1.09, 1.14, 1.22, 1.24, 0]  # values for transversal incidence angle modifier (0..1)\n",
    "kd = 1  # Incidence angle modifier diffuse radiation\n",
    "\n",
    "# my parameters\n",
    "mdot = 80 / 3600    # mass flow rate (L/h to kg/s for water density=1000 kg/m3)\n",
    "t_amb = 300         # ambient temperature\n",
    "t_in = 290          # water inlet temperature\n",
    "cp = 4200           # heat capacity (J/kg*k)"
   ]
  },
  {
   "cell_type": "code",
   "execution_count": 89,
   "metadata": {},
   "outputs": [
    {
     "data": {
      "image/png": "[encoded data removed]",
      "text/plain": [
       "<Figure size 432x288 with 1 Axes>"
      ]
     },
     "metadata": {
      "needs_background": "light"
     },
     "output_type": "display_data"
    },
    {
     "name": "stdout",
     "output_type": "stream",
     "text": [
      "270.0\n"
     ]
    }
   ],
   "source": [
    "from splines import kdir\n",
    "from scipy.integrate import odeint\n",
    "import matplotlib.pyplot as plt\n",
    "import numpy as np\n",
    "\n",
    "\n",
    "def step_down(t, trigger_time):\n",
    "    if t <= trigger_time:\n",
    "        return 1\n",
    "    return 0\n",
    "\n",
    "\n",
    "def Idir(t):\n",
    "    return step_down(t, 50)*800\n",
    "\n",
    "\n",
    "idir_0 = 800\n",
    "\n",
    "\n",
    "def iso_equation(Tm, t):\n",
    "    dTmdt = (F_ta*kdir(0, 0)*Idir(t) - c1 * (Tm - t_amb) -\n",
    "             c2 * (Tm - t_amb)**2 - 2 * mdot*cp*(Tm - t_in)/area)/c5\n",
    "    return dTmdt\n",
    "\n",
    "\n",
    "def iso_equation_modified(Tout, t):\n",
    "    dToutdt = (F_ta*kdir(0, 0)*Idir(t) - c1 * (Tout + t_in-2*t_amb) -\n",
    "               c2 * (Tout + t_in - 2*t_amb)**2 - 2 * mdot*cp*(Tout - t_in)/area)/2/c5\n",
    "    return dToutdt\n",
    "\n",
    "\n",
    "t = np.linspace(0, 80)\n",
    "tm_0 = 280\n",
    "\n",
    "tm = odeint(iso_equation, tm_0, t)\n",
    "tout = 2*tm - t_in\n",
    "\n",
    "tout_mod = odeint(iso_equation_modified, tout.min(), t)\n",
    "\n",
    "t_in_arr = np.ones(len(t))*t_in\n",
    "t_amb_arr = np.ones(len(t))*t_amb\n",
    "\n",
    "plt.plot(t, tm, label=\"$T_m$\")\n",
    "plt.plot(t, tout, \"--\", label=\"$T_{out}$\")\n",
    "plt.plot(t, tout_mod,label=\"$T_{out} \\ mod$\")\n",
    "plt.plot(t, t_in_arr, label=\"$T_{in}$\")\n",
    "plt.plot(t, t_amb_arr, \"k\", label=\"$T_{in}$\")\n",
    "plt.legend()\n",
    "plt.xlabel(\"time (s)\")\n",
    "plt.ylabel(\"$Temperature \\ (\\degree C)$\")\n",
    "plt.show()\n",
    "print(tout.min())"
   ]
  }
 ],
 "metadata": {
  "interpreter": {
   "hash": "1f85fff8cbc4a83a96f1beacbe26fdfcebe2ebe2bc651aaf87a6d79f20e4abab"
  },
  "kernelspec": {
   "display_name": "Python 3.8.5 64-bit ('base': conda)",
   "name": "python3"
  },
  "language_info": {
   "codemirror_mode": {
    "name": "ipython",
    "version": 3
   },
   "file_extension": ".py",
   "mimetype": "text/x-python",
   "name": "python",
   "nbconvert_exporter": "python",
   "pygments_lexer": "ipython3",
   "version": "3.9.5"
  },
  "orig_nbformat": 4
 },
 "nbformat": 4,
 "nbformat_minor": 2
}
