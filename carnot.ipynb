{
 "cells": [
  {
   "cell_type": "markdown",
   "source": [
    "CARNOT equation without diffuse radiation:\n",
    "$$\n",
    "\\begin{equation}\n",
    "    \\begin{split}\n",
    "        \\dot m C_p \\frac{(T_{out} - T_{in})}{A} & = F'\\tau \\alpha K_{dir} I_{dir} + c_1 (T_m - T_{amb}) \\\\\n",
    "        & - c_2 (T_m - T_{amb})^2 - c_3 v_w (T_m - T_{amb}) - c_6 v_w I_{glb} \\\\\n",
    "        & + c_4 [E_{longwave} - \\sigma_{SB} (T_{amb} + 273.15)^4] - c_5 \\frac{dT_m}{dt}\n",
    "    \\end{split}\n",
    "\\end{equation}\n",
    "$$\n",
    "\n",
    "\n"
   ],
   "metadata": {}
  },
  {
   "cell_type": "markdown",
   "source": [
    "All temperatures are reported in Kelvin. Substituting $T_{out} = 2T_m -Tin$ and solving for $\\frac{dT_m}{dt}$ we get:\n",
    "\n",
    "$$\n",
    "\\begin{equation}\n",
    "    \\begin{split}\n",
    "         \\frac{dT_m}{dt} & = \\frac{1}{c_5} [F'\\tau \\alpha K_{dir} I_{dir} + F'\\tau \\alpha + c_1 (T_m - T_{amb}) \\\\\n",
    "        & - c_2 (T_m - T_{amb})^2 - c_3 v_w (T_m - T_{amb}) - c_6 v_w I_{glb} \\\\\n",
    "        & + c_4 (E_{longwave} - \\sigma_{SB} T_{amb}^4) -2 \\frac{\\dot m C_p}{A} (T_{m} - T_{in})]\n",
    "    \\end{split}\n",
    "\\end{equation}\n",
    "$$"
   ],
   "metadata": {}
  },
  {
   "cell_type": "code",
   "execution_count": 18,
   "source": [
    "# TODO write interpolation function for K_dir = f(theta_transv, theta_long)\n",
    "# CARNOT parameters\n",
    "t_0 = 20 + 273  # Initial temperature\n",
    "A = 1           # surface  of one collector module in m2\n",
    "F_ta = 0.507    # Fin Efficiency * Transmission * Absorption (F'(tau alfa))\n",
    "c1 = 0.7153     # heat loss coefficient at (Tm-Ta)=0  [W/(m²*K)]\n",
    "c2 = 0.00339    # temperature dependence of the heat loss coefficient [W/(m*K)²]\n",
    "c3 = 0          # wind speed dependence of the heat loss coefficient [J/(m³K)]\n",
    "c4 = 0          # sky temperature dependence of the heat loss coefficient [W/(m²K)]\n",
    "c5 = 675        # effective thermal capacity [J/(m²K)]\n",
    "c6 = 0          # wind dependence in the zero loss efficiency [s/m]\n",
    "kb = [0, 10, 20, 30, 40, 50, 60, 70, 90]    # angles for longitudinal and transversal IAM [degree]\n",
    "kbL = [1, 1, 1, 0.99, 0.98, 0.96, 0.93, 0.87, 0]    #values for longitudinal incidence angle modifier (0..1)\n",
    "kbT = [1, 1.01, 1.04, 1.07, 1.09, 1.14, 1.22, 1.24, 0]  # values for transversal incidence angle modifier (0..1)\n",
    "kd = 1  # Incidence angle modifier diffuse radiation\n",
    "\n",
    "# my parameters\n",
    "mdot = 80 / 3.6e+6  # mass flow rate (L/h to m3/s)\n",
    "Idir = 1000         # W/m2\n",
    "t_amb = 300         # ambient temperature\n",
    "t_in = 290          # water inlet temperature\n",
    "cp = 4200           # heat capacity (J/kg*k)"
   ],
   "outputs": [],
   "metadata": {}
  },
  {
   "cell_type": "markdown",
   "source": [
    "For our test case, $c_3 = c_2 = c_4 = c_6 = 0$:\n",
    "\n",
    "$$\n",
    "\\begin{equation}\n",
    "    \\begin{split}\n",
    "         \\frac{dT_m}{dt} & = \\frac{1}{c_5} [F'\\tau \\alpha K_{dir} I_{dir} + F'\\tau \\alpha + c_1 (T_m - T_{amb}) - c_2 (T_m - T_{amb})^2 -2 \\frac{\\dot m C_p}{A} (T_{m} - T_{in})]\n",
    "    \\end{split}\n",
    "\\end{equation}\n",
    "$$\n",
    "\n",
    "$K_{dir} = K_b(L) \\cdot K_b(T)$"
   ],
   "metadata": {}
  },
  {
   "cell_type": "code",
   "execution_count": 20,
   "source": [
    "import numpy as np\n",
    "from scipy.interpolate import interp1d\n",
    "\n",
    "angles = kb\n",
    "kbT_spline = interp1d(angles, kbT, kind='cubic')\n",
    "kbL_spline = interp1d(angles, kbL, kind='cubic')\n",
    "\n",
    "\n",
    "def kbt(angle_transv):\n",
    "    return kbT_spline(angle_transv)\n",
    "\n",
    "\n",
    "def kbl(angle_long):\n",
    "    return kbL_spline(angle_long)\n",
    "\n",
    "\n",
    "def kdir(angle_long, angle_transv):\n",
    "    return kbl(angle_long)*kbt(angle_transv)\n",
    "\n",
    "\n",
    "def model(Tm, t):\n",
    "    dTmdt = (F_ta*kdir(0, 0)*Idir + F_ta + c1 * (Tm - t_amb) - c2 * (Tm - t_amb)**2 - 2 *mdot*cp*(Tm - t_in)/A)/c5\n",
    "    return dTmdt\n"
   ],
   "outputs": [
    {
     "output_type": "stream",
     "name": "stdout",
     "text": [
      "1.0\n"
     ]
    }
   ],
   "metadata": {}
  }
 ],
 "metadata": {
  "interpreter": {
   "hash": "1f85fff8cbc4a83a96f1beacbe26fdfcebe2ebe2bc651aaf87a6d79f20e4abab"
  },
  "kernelspec": {
   "name": "python3",
   "display_name": "Python 3.8.5 64-bit ('base': conda)"
  },
  "language_info": {
   "codemirror_mode": {
    "name": "ipython",
    "version": 3
   },
   "file_extension": ".py",
   "mimetype": "text/x-python",
   "name": "python",
   "nbconvert_exporter": "python",
   "pygments_lexer": "ipython3",
   "version": "3.8.5"
  },
  "orig_nbformat": 4
 },
 "nbformat": 4,
 "nbformat_minor": 2
}