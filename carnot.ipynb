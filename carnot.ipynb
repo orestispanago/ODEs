{
 "cells": [
  {
   "cell_type": "markdown",
   "metadata": {},
   "source": [
    "CARNOT equation without diffuse radiation:\n",
    "$$\n",
    "\\begin{equation}\n",
    "    \\begin{split}\n",
    "        \\dot m C_p \\frac{(T_{out} - T_{in})}{A} & = F'\\tau \\alpha K_{dir} I_{dir} + c_1 (T_m - T_{amb}) \\\\\n",
    "        & - c_2 (T_m - T_{amb})^2 - c_3 v_w (T_m - T_{amb}) - c_6 v_w I_{glb} \\\\\n",
    "        & + c_4 [E_{longwave} - \\sigma_{SB} (T_{amb} + 273.15)^4] - c_5 \\frac{dT_m}{dt}\n",
    "    \\end{split}\n",
    "\\end{equation}\n",
    "$$\n",
    "\n",
    "\n"
   ]
  },
  {
   "cell_type": "markdown",
   "metadata": {},
   "source": [
    "All temperatures are reported in Kelvin. Substituting $T_{out} = 2T_m -Tin$ and solving for $\\frac{dT_m}{dt}$ we get:\n",
    "\n",
    "$$\n",
    "\\begin{equation}\n",
    "    \\begin{split}\n",
    "         \\frac{dT_m}{dt} & = \\frac{1}{c_5} [F'\\tau \\alpha K_{dir} I_{dir} + F'\\tau \\alpha + c_1 (T_m - T_{amb}) \\\\\n",
    "        & - c_2 (T_m - T_{amb})^2 - c_3 v_w (T_m - T_{amb}) - c_6 v_w I_{glb} \\\\\n",
    "        & + c_4 (E_{longwave} - \\sigma_{SB} T_{amb}^4) -2 \\frac{\\dot m C_p}{A} (T_{m} - T_{in})]\n",
    "    \\end{split}\n",
    "\\end{equation}\n",
    "$$"
   ]
  },
  {
   "cell_type": "code",
   "execution_count": 6,
   "metadata": {},
   "outputs": [],
   "source": [
    "tau_alpha = 0.874\n",
    "c = 38.2        # Geometric concentration ratio\n",
    "r = 0.76        # mirror reflectivity\n",
    "gamma = 0.883   # intercept factor (COMSOL)\n",
    "a_1 = 6         # linear heat loss coefficient W/(m2.K)\n",
    "a_2 = 0.03      # quadratic heat loss coefficient W/(m2.K2)\n",
    "c_1 = a_1/c     # corrected linear heat loss coefficient W/(m2.K2)\n",
    "c_2 = a_2/c     # corrected quadratic heat loss coefficient W/(m2.K2)\n",
    "U_af = 500      # abs->fluid heat transfer coefficient W/(m2.K)\n",
    "F_ta = 0.574    # optical efficiency with concentrator\n",
    "\n",
    "I_dir = 1000    # direct beam radiation intensity\n",
    "t_amb = 300     # ambient temperature (K)"
   ]
  },
  {
   "cell_type": "code",
   "execution_count": 8,
   "metadata": {},
   "outputs": [],
   "source": [
    "# TODO get parameters from CARNOT\n",
    "# TODO write interpolation function for K_dir = f(theta_transv, theta_long)"
   ]
  }
 ],
 "metadata": {
  "interpreter": {
   "hash": "ffd74f3bc040fc845932dafe32874b054eebe1af676ac36e5a021fbc6eec06f0"
  },
  "kernelspec": {
   "display_name": "Python 3.9.5 ('base')",
   "language": "python",
   "name": "python3"
  },
  "language_info": {
   "codemirror_mode": {
    "name": "ipython",
    "version": 3
   },
   "file_extension": ".py",
   "mimetype": "text/x-python",
   "name": "python",
   "nbconvert_exporter": "python",
   "pygments_lexer": "ipython3",
   "version": "3.9.5"
  },
  "orig_nbformat": 4
 },
 "nbformat": 4,
 "nbformat_minor": 2
}
